{
 "cells": [
  {
   "cell_type": "code",
   "execution_count": 18,
   "id": "1a8a4b6a-045b-4c2a-9aa1-6fc101711763",
   "metadata": {},
   "outputs": [],
   "source": [
    "import re"
   ]
  },
  {
   "cell_type": "code",
   "execution_count": 37,
   "id": "fc0acf5b-4e35-44fb-b44d-e40a78e8e782",
   "metadata": {},
   "outputs": [
    {
     "name": "stdout",
     "output_type": "stream",
     "text": [
      "found email address: deshmukhebhagyashree128@gmail.com\n"
     ]
    }
   ],
   "source": [
    "#patern matching\n",
    "text=\"Hey,its my email address deshmukhebhagyashree128@gmail.com\"\n",
    "pattern=r'\\w+@\\w+\\.\\w+'\n",
    "match = re.search(pattern,text)\n",
    "if match:\n",
    "     print(\"found email address:\",match.group())"
   ]
  },
  {
   "cell_type": "code",
   "execution_count": 41,
   "id": "bc4b2785-f97d-49a4-9297-ceefb54ce359",
   "metadata": {},
   "outputs": [
    {
     "name": "stdout",
     "output_type": "stream",
     "text": [
      "replaced_tex:= Hey,its my email address Bhagyashree\n"
     ]
    }
   ],
   "source": [
    "replaced_text=re.sub(pattern,\"Bhagyashree\",text)\n",
    "print(\"replaced_tex:=\",replaced_text)"
   ]
  },
  {
   "cell_type": "code",
   "execution_count": 47,
   "id": "42f435ec-2289-4c70-9ce3-65a4ebf40d04",
   "metadata": {},
   "outputs": [
    {
     "name": "stdout",
     "output_type": "stream",
     "text": [
      "Found phone numbers:\n",
      "4567890\n",
      "1234567890\n",
      "4567890\n",
      "44201234\n",
      "5678\n",
      "1234567890\n",
      "1234567890\n"
     ]
    }
   ],
   "source": [
    "# Example text containing phone numbers in various formats\n",
    "text = \"\"\"\n",
    "Contact us at (123) 456-7890 or 123-456-7890.\n",
    "You can also reach us at +1 (123) 456-7890 or +44 20 1234 5678.\n",
    "Our old number was 123.456.7890, and we still respond to 1234567890.\n",
    "\"\"\"\n",
    "# Regex pattern to match phone numbers\n",
    "pattern = r'(?:\\+?(\\d{1,3}))?[-. (]?(\\d{1,4})[-. )]?(\\d{1,4})[-.]?(\\d{1,4})[-.]?(\\d{1,9})'\n",
    "\n",
    "# Find all phone numbers in the text\n",
    "matches = re.findall(pattern, text)\n",
    "\n",
    "# Print the results\n",
    "if matches:\n",
    "    print(\"Found phone numbers:\")\n",
    "    for match in matches:\n",
    "        phone_number = ''.join(filter(None, match))\n",
    "        print(phone_number)\n",
    "else:\n",
    "    print(\"No phone numbers found.\")\n"
   ]
  },
  {
   "cell_type": "code",
   "execution_count": null,
   "id": "c184a512-e362-4cac-8e1f-9194f6381773",
   "metadata": {},
   "outputs": [],
   "source": []
  }
 ],
 "metadata": {
  "kernelspec": {
   "display_name": "Python 3 (ipykernel)",
   "language": "python",
   "name": "python3"
  },
  "language_info": {
   "codemirror_mode": {
    "name": "ipython",
    "version": 3
   },
   "file_extension": ".py",
   "mimetype": "text/x-python",
   "name": "python",
   "nbconvert_exporter": "python",
   "pygments_lexer": "ipython3",
   "version": "3.12.4"
  }
 },
 "nbformat": 4,
 "nbformat_minor": 5
}
