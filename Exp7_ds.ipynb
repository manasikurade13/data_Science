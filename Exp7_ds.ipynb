{
 "cells": [
  {
   "cell_type": "code",
   "execution_count": 3,
   "id": "7b6067ff-baeb-4d56-a6ae-aef6b46afec1",
   "metadata": {},
   "outputs": [],
   "source": [
    "import pandas as pd"
   ]
  },
  {
   "cell_type": "code",
   "execution_count": 29,
   "id": "6efb7920-3a27-49c3-8f7e-bc415e5ae5c0",
   "metadata": {},
   "outputs": [],
   "source": [
    "## read csv**\n",
    "file = open(\"Salary_data.csv\")"
   ]
  },
  {
   "cell_type": "code",
   "execution_count": 35,
   "id": "ad04dbc8-64f6-481b-a6fa-fb181ea23a26",
   "metadata": {},
   "outputs": [
    {
     "name": "stdout",
     "output_type": "stream",
     "text": [
      "   Years  Salary\n",
      "0    1.1   39343\n",
      "1    1.3   46205\n",
      "2    1.5   37731\n",
      "3    2.0   43525\n",
      "4    2.2   39891\n",
      "5    2.9   56642\n",
      "6    3.0   60150\n",
      "7    3.2   54445\n",
      "8    3.2   64445\n"
     ]
    }
   ],
   "source": [
    "csv_Reader= pd.read_csv(\"Salary_data.csv\")\n",
    "print(csv_Reader)"
   ]
  },
  {
   "cell_type": "code",
   "execution_count": 148,
   "id": "f80465f7-3033-4164-8e6b-84fa0f09ef45",
   "metadata": {},
   "outputs": [],
   "source": [
    "# write to csv**\n",
    "import importlib\n",
    "import csv\n",
    "importlib.reload(csv)  \n",
    "fields=['name','branch','year','cgpa']\n",
    "rows=([['bhagya','CSE','TY','9.5'],\n",
    "      ['shree','IT','SY','8.5'],\n",
    "      ['rohit','ET','FY','9.0'],\n",
    "      ['prashant','CE','TY','9.3'],\n",
    "      ['sushant','ME','SY','8.3']])\n",
    "filename= \"university_records.csv\"\n",
    "with open(filename, 'w', newline='') as csvfile:\n",
    " csvwriter = csv.writer(csvfile);\n",
    " csvwriter.writerow(fields)\n",
    " csvwriter.writerows(rows)  "
   ]
  },
  {
   "cell_type": "code",
   "execution_count": 150,
   "id": "740cd8bb-a525-449f-b5bf-1f282a0695e1",
   "metadata": {},
   "outputs": [
    {
     "name": "stdout",
     "output_type": "stream",
     "text": [
      "university_records.csv\n"
     ]
    }
   ],
   "source": [
    "=pd.read_csv(\"filename)"
   ]
  },
  {
   "cell_type": "code",
   "execution_count": null,
   "id": "6323572d-416f-4437-9fda-4467145cf0db",
   "metadata": {},
   "outputs": [],
   "source": []
  }
 ],
 "metadata": {
  "kernelspec": {
   "display_name": "Python 3 (ipykernel)",
   "language": "python",
   "name": "python3"
  },
  "language_info": {
   "codemirror_mode": {
    "name": "ipython",
    "version": 3
   },
   "file_extension": ".py",
   "mimetype": "text/x-python",
   "name": "python",
   "nbconvert_exporter": "python",
   "pygments_lexer": "ipython3",
   "version": "3.12.4"
  }
 },
 "nbformat": 4,
 "nbformat_minor": 5
}
