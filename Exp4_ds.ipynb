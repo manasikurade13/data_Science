{
 "cells": [
  {
   "cell_type": "code",
   "execution_count": 39,
   "id": "7b59d43f-9a12-4c70-a982-a4134d49412f",
   "metadata": {},
   "outputs": [
    {
     "name": "stdout",
     "output_type": "stream",
     "text": [
      "[0. 0. 0. 0.]\n",
      "[1. 1. 1. 1. 1. 1. 1.]\n",
      "[0.62697322 0.39174132]\n"
     ]
    }
   ],
   "source": [
    "import numpy as np\n",
    "#create array using specific functions\n",
    "arr=np.zeros(4)\n",
    "print(arr)\n",
    "arr1=np.ones(7)\n",
    "print(arr1)\n",
    "arr2=np.random.rand(2)\n",
    "print(arr2)"
   ]
  },
  {
   "cell_type": "code",
   "execution_count": 41,
   "id": "d58e721f-f984-4200-b051-a8cf9dc38fc5",
   "metadata": {},
   "outputs": [
    {
     "name": "stdout",
     "output_type": "stream",
     "text": [
      "[[1 2 3]\n",
      " [4 5 6]\n",
      " [7 8 9]]\n",
      "3rd element of 2nd row: 6\n"
     ]
    }
   ],
   "source": [
    "# create multidimensional array\n",
    "arr_2dim=np.array([[1,2,3],[4,5,6],[7,8,9]]) # 3rows with 3 columns\n",
    "print(arr_2dim)\n",
    "#access 2dimension arr by index\n",
    "print(\"3rd element of 2nd row:\",arr_2dim[1,2]) "
   ]
  },
  {
   "cell_type": "code",
   "execution_count": 51,
   "id": "d7a4d467-be65-4ec6-b65d-e3cb8797c2a0",
   "metadata": {},
   "outputs": [
    {
     "name": "stdout",
     "output_type": "stream",
     "text": [
      "45\n",
      "[2. 5. 8.]\n",
      "5.0\n",
      "[4. 5. 6.]\n"
     ]
    }
   ],
   "source": [
    "#sum of all elements\n",
    "print(np.sum(arr_2dim))\n",
    "#calulate mean of each row\n",
    "print(np.mean(arr_2dim,axis=1)) #each row\n",
    "print(np.mean(arr_2dim)) #all rows\n",
    "print(np.mean(arr_2dim,axis=0)) # each coloumn"
   ]
  },
  {
   "cell_type": "code",
   "execution_count": null,
   "id": "68397400-633f-4ef8-9a63-d40846df1df0",
   "metadata": {},
   "outputs": [],
   "source": []
  }
 ],
 "metadata": {
  "kernelspec": {
   "display_name": "Python 3 (ipykernel)",
   "language": "python",
   "name": "python3"
  },
  "language_info": {
   "codemirror_mode": {
    "name": "ipython",
    "version": 3
   },
   "file_extension": ".py",
   "mimetype": "text/x-python",
   "name": "python",
   "nbconvert_exporter": "python",
   "pygments_lexer": "ipython3",
   "version": "3.12.4"
  }
 },
 "nbformat": 4,
 "nbformat_minor": 5
}
