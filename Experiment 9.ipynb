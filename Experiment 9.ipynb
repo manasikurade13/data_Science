{
 "cells": [
  {
   "cell_type": "markdown",
   "id": "4afa93a5-54ba-4477-958d-923e25e161ec",
   "metadata": {},
   "source": [
    "# Data Filtering in Pandas DataFrame"
   ]
  },
  {
   "cell_type": "markdown",
   "id": "7f16879f-6f9e-44ad-b5e1-7cda486469f2",
   "metadata": {},
   "source": [
    "### Importing Pandas and Creating a DataFrame"
   ]
  },
  {
   "cell_type": "code",
   "execution_count": 100,
   "id": "d3fb2d21-a81b-4337-9569-5517f25570e8",
   "metadata": {},
   "outputs": [
    {
     "name": "stdout",
     "output_type": "stream",
     "text": [
      "      Name  Age  Gender Department  Salary\n",
      "0    Alice   23  Female         HR   50000\n",
      "1      Bob   35    Male         IT   60000\n",
      "2  Charlie   45    Male    Finance   80000\n",
      "3    David   25    Male         IT   55000\n",
      "4      Eva   30  Female         HR   62000\n"
     ]
    }
   ],
   "source": [
    "import pandas as pd\n",
    "\n",
    "# Sample dataset\n",
    "data = {\n",
    "    'Name': ['Alice', 'Bob', 'Charlie', 'David', 'Eva'],\n",
    "    'Age': [23, 35, 45, 25, 30],\n",
    "    'Gender': ['Female', 'Male', 'Male', 'Male', 'Female'],\n",
    "    'Department': ['HR', 'IT', 'Finance', 'IT', 'HR'],\n",
    "    'Salary': [50000, 60000, 80000, 55000, 62000]\n",
    "}\n",
    "\n",
    "# Creating DataFrame\n",
    "df = pd.DataFrame(data)\n",
    "\n",
    "# Displaying DataFrame\n",
    "print(df)"
   ]
  },
  {
   "cell_type": "markdown",
   "id": "c87f5b97-be67-4ce4-8083-7b6546f4ff4f",
   "metadata": {},
   "source": [
    "## Single Condition Filtering"
   ]
  },
  {
   "cell_type": "code",
   "execution_count": 103,
   "id": "dbc60e6f-2bb3-45a0-9eee-975410d2f4a5",
   "metadata": {},
   "outputs": [
    {
     "name": "stdout",
     "output_type": "stream",
     "text": [
      "Single condition filtering (Age > 30):\n",
      "      Name  Age Gender Department  Salary\n",
      "1      Bob   35   Male         IT   60000\n",
      "2  Charlie   45   Male    Finance   80000\n"
     ]
    }
   ],
   "source": [
    "# Filtering rows where Age is greater than 30\n",
    "filtered_df_single = df[df['Age'] > 30]\n",
    "\n",
    "print(\"Single condition filtering (Age > 30):\")\n",
    "print(filtered_df_single)"
   ]
  },
  {
   "cell_type": "markdown",
   "id": "0a6a7ec9-30b2-46fe-9c63-7abcbecffdfd",
   "metadata": {},
   "source": [
    "## Multiple Condition Filtering"
   ]
  },
  {
   "cell_type": "code",
   "execution_count": 106,
   "id": "96a53a55-6cbf-4487-b3de-0437a2a00908",
   "metadata": {},
   "outputs": [
    {
     "name": "stdout",
     "output_type": "stream",
     "text": [
      "Multiple condition filtering (Age > 30 and Department == 'IT'):\n",
      "  Name  Age Gender Department  Salary\n",
      "1  Bob   35   Male         IT   60000\n"
     ]
    }
   ],
   "source": [
    "# Multiple conditions: Age > 30 AND Department == 'IT'\n",
    "filtered_df_multi = df[(df['Age'] > 30) & (df['Department'] == 'IT')]\n",
    "\n",
    "print(\"Multiple condition filtering (Age > 30 and Department == 'IT'):\")\n",
    "print(filtered_df_multi)"
   ]
  },
  {
   "cell_type": "markdown",
   "id": "f5ba2be9-3f4f-4819-977e-2724e280a7a3",
   "metadata": {},
   "source": [
    "## Filtering Using query()"
   ]
  },
  {
   "cell_type": "code",
   "execution_count": 111,
   "id": "5ccf51ef-427f-430e-acb4-2f72b59af516",
   "metadata": {},
   "outputs": [
    {
     "name": "stdout",
     "output_type": "stream",
     "text": [
      "Query method filtering (Age > 30 and Gender == 'Male'):\n",
      "      Name  Age Gender Department  Salary\n",
      "1      Bob   35   Male         IT   60000\n",
      "2  Charlie   45   Male    Finance   80000\n"
     ]
    }
   ],
   "source": [
    "#The query() function is an elegant and efficient way to filter data.\n",
    "# Using query for filtering Age > 30 and Gender == 'Male'\n",
    "filtered_df_query = df.query('Age > 30 and Gender == \"Male\"')\n",
    "\n",
    "print(\"Query method filtering (Age > 30 and Gender == 'Male'):\")\n",
    "print(filtered_df_query)"
   ]
  },
  {
   "cell_type": "markdown",
   "id": "f8e5f491-e64b-4efd-a23c-e70a052584c7",
   "metadata": {},
   "source": [
    "## Filtering Using loc"
   ]
  },
  {
   "cell_type": "code",
   "execution_count": 116,
   "id": "aac68141-5f9f-4924-8847-e9a6a3152299",
   "metadata": {},
   "outputs": [
    {
     "name": "stdout",
     "output_type": "stream",
     "text": [
      "Using loc method filtering (Age > 30 and selecting columns Name and Salary):\n",
      "      Name  Salary\n",
      "1      Bob   60000\n",
      "2  Charlie   80000\n"
     ]
    }
   ],
   "source": [
    "#The loc[] method allows filtering rows by label and selecting specific rows and columns.\n",
    "# Using loc for filtering Age > 30 and selecting Name and Salary columns\n",
    "filtered_df_loc = df.loc[df['Age'] > 30, ['Name', 'Salary']]\n",
    "\n",
    "print(\"Using loc method filtering (Age > 30 and selecting columns Name and Salary):\")\n",
    "print(filtered_df_loc)"
   ]
  },
  {
   "cell_type": "markdown",
   "id": "146f4a48-9093-481c-ac4a-1f7344d9b7c4",
   "metadata": {},
   "source": [
    "## Filtering by Row and Column Position Using iloc"
   ]
  },
  {
   "cell_type": "code",
   "execution_count": 126,
   "id": "2644aad8-b913-4217-a16b-329cf4adc390",
   "metadata": {},
   "outputs": [
    {
     "name": "stdout",
     "output_type": "stream",
     "text": [
      "Using iloc for selecting rows 2 to 4 and columns 1 to 3:\n",
      "   Age Gender\n",
      "1   35   Male\n",
      "2   45   Male\n",
      "3   25   Male\n"
     ]
    }
   ],
   "source": [
    "#The iloc[] method is used to select rows and columns by index position.\n",
    "#Example: Selecting rows 2 to 4 and columns 1 to 3.\n",
    "# Selecting rows 2 to 4 (0-based index) and columns 1 to 3 (Age, Gender)\n",
    "filtered_df_iloc = df.iloc[1:4, 1:3]\n",
    "\n",
    "print(\"Using iloc for selecting rows 2 to 4 and columns 1 to 3:\")\n",
    "print(filtered_df_iloc)"
   ]
  },
  {
   "cell_type": "markdown",
   "id": "4704c83c-2613-49cd-899e-053f3da85039",
   "metadata": {},
   "source": [
    "## Filtering by Row Position and Column Names"
   ]
  },
  {
   "cell_type": "code",
   "execution_count": 122,
   "id": "192d158e-87fc-4212-93f4-246b75be92b4",
   "metadata": {},
   "outputs": [
    {
     "name": "stdout",
     "output_type": "stream",
     "text": [
      "Filtering first three rows and selecting 'Name' and 'Salary' columns:\n",
      "      Name  Salary\n",
      "0    Alice   50000\n",
      "1      Bob   60000\n",
      "2  Charlie   80000\n"
     ]
    }
   ],
   "source": [
    "#We can filter rows by their position and specific column names using loc.\n",
    "#Example: Selecting the first three rows and only 'Name' and 'Salary' columns.\n",
    "# Filtering by row position and specific columns\n",
    "filtered_df_specific = df.loc[df.index[0:3], ['Name', 'Salary']]\n",
    "\n",
    "print(\"Filtering first three rows and selecting 'Name' and 'Salary' columns:\")\n",
    "print(filtered_df_specific)"
   ]
  },
  {
   "cell_type": "code",
   "execution_count": 130,
   "id": "09c34077-7058-441c-b833-dbc95a12866e",
   "metadata": {},
   "outputs": [
    {
     "name": "stdout",
     "output_type": "stream",
     "text": [
      "1. First 5 Rows:\n",
      "      Name  Age  Score City\n",
      "0    Alice   24     88   NY\n",
      "1      Bob   30     92   LA\n",
      "2  Charlie   22     85   SF\n",
      "3    David   35     79  CHI\n",
      "4      Eva   28     94  HOU\n",
      "\n",
      "\n",
      "2. Second to Fifth Row:\n",
      "      Name  Age  Score City\n",
      "1      Bob   30     92   LA\n",
      "2  Charlie   22     85   SF\n",
      "3    David   35     79  CHI\n",
      "4      Eva   28     94  HOU\n",
      "\n",
      "\n",
      "3. Sixth Row, First Column:\n",
      "Frank\n",
      "\n",
      "\n",
      "4. Second to Fifth Row, First Column:\n",
      "1        Bob\n",
      "2    Charlie\n",
      "3      David\n",
      "4        Eva\n",
      "Name: Name, dtype: object\n",
      "\n",
      "\n",
      "5. Second to Fifth Row, First 5 Columns:\n",
      "      Name  Age  Score City\n",
      "1      Bob   30     92   LA\n",
      "2  Charlie   22     85   SF\n",
      "3    David   35     79  CHI\n",
      "4      Eva   28     94  HOU\n",
      "\n",
      "\n",
      "6. Third to Seventh Row, 2nd and 3rd Column:\n",
      "   Age  Score\n",
      "2   22     85\n",
      "3   35     79\n",
      "4   28     94\n",
      "5   40     91\n",
      "6   25     87\n",
      "\n",
      "\n"
     ]
    }
   ],
   "source": [
    "# Sample dataset\n",
    "data = {\n",
    "    'Name': ['Alice', 'Bob', 'Charlie', 'David', 'Eva', 'Frank', 'Grace'],\n",
    "    'Age': [24, 30, 22, 35, 28, 40, 25],\n",
    "    'Score': [88, 92, 85, 79, 94, 91, 87],\n",
    "    'City': ['NY', 'LA', 'SF', 'CHI', 'HOU', 'MIA', 'SEA']\n",
    "}\n",
    "\n",
    "df = pd.DataFrame(data)\n",
    "\n",
    "# 1. First 5 rows\n",
    "print(\"1. First 5 Rows:\")\n",
    "print(df.iloc[:5, :])\n",
    "print(\"\\n\")\n",
    "\n",
    "# 2. Second to Fifth row\n",
    "print(\"2. Second to Fifth Row:\")\n",
    "print(df.iloc[1:5, :])\n",
    "print(\"\\n\")\n",
    "\n",
    "# 3. Sixth row and 1st column\n",
    "print(\"3. Sixth Row, First Column:\")\n",
    "print(df.iloc[5, 0])  # Output will be the name in the 6th row\n",
    "print(\"\\n\")\n",
    "\n",
    "# 4. Second to Fifth row, first column\n",
    "print(\"4. Second to Fifth Row, First Column:\")\n",
    "print(df.iloc[1:5, 0])  # Names of rows 2 to 5\n",
    "print(\"\\n\")\n",
    "\n",
    "# 5. Second to Fifth Row, First 5 Columns\n",
    "print(\"5. Second to Fifth Row, First 5 Columns:\")\n",
    "print(df.iloc[1:5, :5])  # This will give the entire row\n",
    "print(\"\\n\")\n",
    "\n",
    "# 6. Third to Seventh Row, 2nd and 3rd Column\n",
    "print(\"6. Third to Seventh Row, 2nd and 3rd Column:\")\n",
    "print(df.iloc[2:7, 1:3])  # Age and Score columns for rows 3 to 7\n",
    "print(\"\\n\")"
   ]
  }
 ],
 "metadata": {
  "kernelspec": {
   "display_name": "Python 3 (ipykernel)",
   "language": "python",
   "name": "python3"
  },
  "language_info": {
   "codemirror_mode": {
    "name": "ipython",
    "version": 3
   },
   "file_extension": ".py",
   "mimetype": "text/x-python",
   "name": "python",
   "nbconvert_exporter": "python",
   "pygments_lexer": "ipython3",
   "version": "3.12.4"
  }
 },
 "nbformat": 4,
 "nbformat_minor": 5
}
