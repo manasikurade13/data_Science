{
 "cells": [
  {
   "cell_type": "code",
   "execution_count": 13,
   "id": "c5d7d5bd-e216-42b4-9627-9061f523f5f3",
   "metadata": {},
   "outputs": [
    {
     "name": "stdout",
     "output_type": "stream",
     "text": [
      "1\n",
      "3\n",
      "5\n"
     ]
    }
   ],
   "source": [
    "import numpy as np\n",
    "arr=np.array([1,2,3,4,5,6])\n",
    "#accessing by index\n",
    "print(arr[0])\n",
    "print(arr[2])\n",
    "print(arr[4])"
   ]
  },
  {
   "cell_type": "code",
   "execution_count": 11,
   "id": "a6838443-bc4a-487f-89e3-f6c8504d818d",
   "metadata": {},
   "outputs": [
    {
     "name": "stdout",
     "output_type": "stream",
     "text": [
      "3\n",
      "8\n"
     ]
    }
   ],
   "source": [
    "#modifying by index\n",
    "print(arr[2])\n",
    "arr[2]=8\n",
    "print(arr[2])"
   ]
  },
  {
   "cell_type": "code",
   "execution_count": 17,
   "id": "8385c64b-ad39-4d6f-9ad1-5ed9ac90ed05",
   "metadata": {},
   "outputs": [
    {
     "name": "stdout",
     "output_type": "stream",
     "text": [
      "6\n",
      "4\n",
      "2\n"
     ]
    }
   ],
   "source": [
    "# negative array indexing\n",
    "print(arr[-1])\n",
    "print(arr[-3])\n",
    "print(arr[-5])"
   ]
  },
  {
   "cell_type": "code",
   "execution_count": null,
   "id": "6e7a00c8-9c27-4a89-bc8f-543cbe39e51f",
   "metadata": {},
   "outputs": [],
   "source": []
  }
 ],
 "metadata": {
  "kernelspec": {
   "display_name": "Python 3 (ipykernel)",
   "language": "python",
   "name": "python3"
  },
  "language_info": {
   "codemirror_mode": {
    "name": "ipython",
    "version": 3
   },
   "file_extension": ".py",
   "mimetype": "text/x-python",
   "name": "python",
   "nbconvert_exporter": "python",
   "pygments_lexer": "ipython3",
   "version": "3.12.4"
  }
 },
 "nbformat": 4,
 "nbformat_minor": 5
}
