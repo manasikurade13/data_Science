{
 "cells": [
  {
   "cell_type": "code",
   "execution_count": 35,
   "id": "dbc8c4fc-7d46-4b0c-8dde-2aa1c4177735",
   "metadata": {},
   "outputs": [
    {
     "name": "stdout",
     "output_type": "stream",
     "text": [
      "[ 9  4 36 49 25]\n",
      "[78 12 65 45 12]\n"
     ]
    }
   ],
   "source": [
    "import numpy as np\n",
    "arr=np.array([9,4,36,49,25])\n",
    "arr1=np.array([78,12,65,45,12])\n",
    "print(arr)\n",
    "print(arr1)"
   ]
  },
  {
   "cell_type": "code",
   "execution_count": 37,
   "id": "b90a6dd5-0a12-42e9-a1a2-ad463afa6b51",
   "metadata": {},
   "outputs": [
    {
     "name": "stdout",
     "output_type": "stream",
     "text": [
      "Absolute values : [ 9  4 36 49 25]\n"
     ]
    }
   ],
   "source": [
    "#use numpy unary ufunc\n",
    "#1.abs,fabs\n",
    "print(f\"Absolute values : {np.abs(arr)}\")"
   ]
  },
  {
   "cell_type": "code",
   "execution_count": 17,
   "id": "171df31a-0f24-4426-b2fd-8bd999b70113",
   "metadata": {},
   "outputs": [
    {
     "name": "stdout",
     "output_type": "stream",
     "text": [
      "Square root of each elements : [3. 2. 6. 7. 5.]\n"
     ]
    }
   ],
   "source": [
    "#2.sqrt\n",
    "print(f\"Square root of each elements : {np.sqrt(arr)}\")"
   ]
  },
  {
   "cell_type": "code",
   "execution_count": 39,
   "id": "37f34fd1-bad6-432c-a190-aee90878c534",
   "metadata": {},
   "outputs": [
    {
     "name": "stdout",
     "output_type": "stream",
     "text": [
      "Exponential value for each element:[7.49841700e+33 1.62754791e+05 1.69488924e+28 3.49342711e+19\n",
      " 1.62754791e+05]\n"
     ]
    }
   ],
   "source": [
    "#3.exp\n",
    "print(f\"Exponential value for each element:{np.exp(arr1)}\")"
   ]
  },
  {
   "cell_type": "code",
   "execution_count": 41,
   "id": "226c8947-80e8-4ffe-84f3-7233332e4a17",
   "metadata": {},
   "outputs": [
    {
     "name": "stdout",
     "output_type": "stream",
     "text": [
      "Square each elements : [  81   16 1296 2401  625]\n"
     ]
    }
   ],
   "source": [
    "#4.square\n",
    "print(f\"Square each elements : {np.square(arr)}\")"
   ]
  },
  {
   "cell_type": "code",
   "execution_count": 43,
   "id": "32e84a38-a5ab-40a0-be1f-c584179d5bd3",
   "metadata": {},
   "outputs": [
    {
     "name": "stdout",
     "output_type": "stream",
     "text": [
      "Sine value of of each elements : [ 0.41211849 -0.7568025  -0.99177885 -0.95375265 -0.13235175]\n"
     ]
    }
   ],
   "source": [
    "#5.sin\n",
    "print(f\"Sine value of of each elements : {np.sin(arr)}\")"
   ]
  },
  {
   "cell_type": "code",
   "execution_count": 45,
   "id": "494f2662-d365-4b26-ab14-ceb1431b67d3",
   "metadata": {},
   "outputs": [
    {
     "name": "stdout",
     "output_type": "stream",
     "text": [
      "Cos value of  each elements : [-0.91113026 -0.65364362 -0.12796369  0.30059254  0.99120281]\n"
     ]
    }
   ],
   "source": [
    "#3.cos\n",
    "print(f\"Cos value of  each elements : {np.cos(arr)}\")"
   ]
  },
  {
   "cell_type": "code",
   "execution_count": 47,
   "id": "c9af8114-0307-4350-904f-e775a4cd3ad1",
   "metadata": {},
   "outputs": [
    {
     "name": "stdout",
     "output_type": "stream",
     "text": [
      "Tan value of of each elements : [-0.45231566  1.15782128  7.75047091 -3.17290855 -0.13352641]\n"
     ]
    }
   ],
   "source": [
    "#4.tan\n",
    "print(f\"Tan value of of each elements : {np.tan(arr)}\")"
   ]
  },
  {
   "cell_type": "code",
   "execution_count": 53,
   "id": "8b83fc5d-d1c5-46b5-b9b0-39e505f8035a",
   "metadata": {},
   "outputs": [
    {
     "name": "stdout",
     "output_type": "stream",
     "text": [
      "5\n"
     ]
    }
   ],
   "source": [
    "#bitwise operators works on only integers\n",
    "#1.bitwise or\n",
    "b=4|5\n",
    "print(b)"
   ]
  },
  {
   "cell_type": "code",
   "execution_count": 55,
   "id": "36bb21c2-5675-45ad-a8e9-18d1560572b1",
   "metadata": {},
   "outputs": [
    {
     "name": "stdout",
     "output_type": "stream",
     "text": [
      "1\n"
     ]
    }
   ],
   "source": [
    "# bitwise and\n",
    "a=3&5\n",
    "print(a)"
   ]
  },
  {
   "cell_type": "code",
   "execution_count": 57,
   "id": "949b26b1-c388-42b7-af56-1183851fce00",
   "metadata": {},
   "outputs": [
    {
     "name": "stdout",
     "output_type": "stream",
     "text": [
      "10\n"
     ]
    }
   ],
   "source": [
    "#3.bitwise ExOR\n",
    "c=8^2\n",
    "print(c)"
   ]
  },
  {
   "cell_type": "code",
   "execution_count": 59,
   "id": "82fc7ecc-ffff-42cb-a8b7-f687f876ff50",
   "metadata": {},
   "outputs": [
    {
     "name": "stdout",
     "output_type": "stream",
     "text": [
      "-9\n"
     ]
    }
   ],
   "source": [
    "#4.bitwise NOT\n",
    "d=~8\n",
    "print(d)"
   ]
  },
  {
   "cell_type": "code",
   "execution_count": 69,
   "id": "a07c3216-15e6-41e7-8dcb-89a9f4243186",
   "metadata": {},
   "outputs": [
    {
     "name": "stdout",
     "output_type": "stream",
     "text": [
      "0\n"
     ]
    }
   ],
   "source": [
    "#bitwise right shift\n",
    "e=2>>2\n",
    "print(e)"
   ]
  },
  {
   "cell_type": "code",
   "execution_count": null,
   "id": "254185a5-4a81-4f84-8246-615c37c952db",
   "metadata": {},
   "outputs": [],
   "source": []
  }
 ],
 "metadata": {
  "kernelspec": {
   "display_name": "Python 3 (ipykernel)",
   "language": "python",
   "name": "python3"
  },
  "language_info": {
   "codemirror_mode": {
    "name": "ipython",
    "version": 3
   },
   "file_extension": ".py",
   "mimetype": "text/x-python",
   "name": "python",
   "nbconvert_exporter": "python",
   "pygments_lexer": "ipython3",
   "version": "3.12.4"
  }
 },
 "nbformat": 4,
 "nbformat_minor": 5
}
