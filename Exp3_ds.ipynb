{
 "cells": [
  {
   "cell_type": "code",
   "execution_count": 27,
   "id": "99972b96-b12c-4b0d-b627-3d33e514bd5d",
   "metadata": {},
   "outputs": [
    {
     "name": "stdout",
     "output_type": "stream",
     "text": [
      "[3 4 1 2 5]\n",
      "['i' 'o' 'a' 'e' 'u']\n",
      "[1.5 2.5 3.5]\n"
     ]
    }
   ],
   "source": [
    "import numpy as np\n",
    "# creating an array\n",
    "arr=np.array([3,4,1,2,5])\n",
    "arrch=np.array(['i','o','a','e','u'])\n",
    "arrfl=np.array([1.5,2.5,3.5])\n",
    "print(arr)\n",
    "print(arrch)\n",
    "print(arrfl)"
   ]
  },
  {
   "cell_type": "code",
   "execution_count": 29,
   "id": "c9793041-d2aa-4b45-8f1e-ce17549d5c4e",
   "metadata": {},
   "outputs": [
    {
     "name": "stdout",
     "output_type": "stream",
     "text": [
      "5\n",
      "u\n",
      "3.5\n"
     ]
    }
   ],
   "source": [
    "# find maximum\n",
    "print(max(arr))\n",
    "print(max(arrch))\n",
    "print(max(arrfl))"
   ]
  },
  {
   "cell_type": "code",
   "execution_count": 31,
   "id": "fd0d4b7e-66a5-4007-800e-c869795b65c5",
   "metadata": {},
   "outputs": [
    {
     "name": "stdout",
     "output_type": "stream",
     "text": [
      "1\n",
      "a\n",
      "1.5\n"
     ]
    }
   ],
   "source": [
    "#find minimum  \n",
    "print(min(arr))\n",
    "print(min(arrch))\n",
    "print(min(arrfl))"
   ]
  },
  {
   "cell_type": "code",
   "execution_count": 33,
   "id": "046e31c4-091c-4be4-b9d1-d80e7f5cb312",
   "metadata": {},
   "outputs": [
    {
     "name": "stdout",
     "output_type": "stream",
     "text": [
      "15\n",
      "7.5\n"
     ]
    }
   ],
   "source": [
    "#find sum\n",
    "print(sum(arr))\n",
    "print(sum(arrfl))"
   ]
  },
  {
   "cell_type": "code",
   "execution_count": null,
   "id": "052f9aec-40cd-457b-b30b-bf85f6c0d16b",
   "metadata": {},
   "outputs": [],
   "source": []
  }
 ],
 "metadata": {
  "kernelspec": {
   "display_name": "Python 3 (ipykernel)",
   "language": "python",
   "name": "python3"
  },
  "language_info": {
   "codemirror_mode": {
    "name": "ipython",
    "version": 3
   },
   "file_extension": ".py",
   "mimetype": "text/x-python",
   "name": "python",
   "nbconvert_exporter": "python",
   "pygments_lexer": "ipython3",
   "version": "3.12.4"
  }
 },
 "nbformat": 4,
 "nbformat_minor": 5
}
