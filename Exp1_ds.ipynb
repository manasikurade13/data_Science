{
 "cells": [
  {
   "cell_type": "code",
   "execution_count": 1,
   "id": "99190498-4b90-4b8b-944b-791385178a18",
   "metadata": {},
   "outputs": [
    {
     "name": "stdout",
     "output_type": "stream",
     "text": [
      "[1 2 3 4 5]\n",
      "1\n",
      "[2 3]\n"
     ]
    }
   ],
   "source": [
    "import numpy as np\n",
    "arr =np.array([1,2,3,4,5])\n",
    "print(arr)    #print array elements\n",
    "print(arr[0]) #acessing by index\n",
    "print(arr[1:3]) #slicing"
   ]
  },
  {
   "cell_type": "code",
   "execution_count": 8,
   "id": "ac7f8135-28e7-41a5-be48-e90f62363a06",
   "metadata": {},
   "outputs": [
    {
     "name": "stdout",
     "output_type": "stream",
     "text": [
      "['a', 'e', 'i', 'o', 'u']\n",
      "('bhagya', 'jyoti', 'Shree')\n",
      "{'home': 'key', 'river': 'water', 'well': 'pot'}\n",
      "{'banana', 'grapes', 'apple'}\n"
     ]
    }
   ],
   "source": [
    "#creating arry giving i/p as list,tuple,dictionary,set\n",
    "list =['a','e','i','o','u']\n",
    "arr =list\n",
    "print(arr)\n",
    "tuple=(\"bhagya\",\"jyoti\",\"Shree\")\n",
    "arr = tuple\n",
    "print(arr)\n",
    "dictionary ={ 'home': 'key' ,'river': 'water','well':'pot'}\n",
    "arr=dictionary\n",
    "print(arr)\n",
    "set= {\"apple\",\"banana\",\"grapes\"}\n",
    "arr=set\n",
    "print(arr)"
   ]
  },
  {
   "cell_type": "code",
   "execution_count": 42,
   "id": "36254928-fd36-4969-a30e-1b1a4fae8cb6",
   "metadata": {},
   "outputs": [
    {
     "name": "stdout",
     "output_type": "stream",
     "text": [
      "[1 2 3 4 5]\n",
      "[1 2 3 4 5 7]\n",
      "[1 2 3 4 5 9 8 7]\n"
     ]
    }
   ],
   "source": [
    "#append elements at end\n",
    "arr=np.array([1,2,3,4,5])\n",
    "print(arr)\n",
    "arr1=np.append(arr,7,axis=45)\n",
    "print(arr1)\n",
    "#insert \n",
    "arr3=np.array([9,8,7])\n",
    "arr2=np.insert(arr3,0,arr,axis=0)\n",
    "print(arr2)"
   ]
  },
  {
   "cell_type": "code",
   "execution_count": 47,
   "id": "d835bf7f-856f-4341-a0c8-a55df1053b7a",
   "metadata": {},
   "outputs": [
    {
     "name": "stdout",
     "output_type": "stream",
     "text": [
      "['h' 'a' 'g' 'y' 'a' 's' 'h' 'r' 'e']\n",
      "['y' 'a' 's' 'h' 'r' 'e' 'e']\n",
      "['b' 'h' 'a' 'g' 'y' 'a']\n",
      "['a' 'g' 'y' 'a']\n"
     ]
    }
   ],
   "source": [
    "#slicing\n",
    "arr=np.array(['b','h','a','g','y','a','s','h','r','e','e'])\n",
    "print(arr[1:-1])\n",
    "print(arr[4:])\n",
    "print(arr[:6])\n",
    "print(arr[2:6])"
   ]
  },
  {
   "cell_type": "code",
   "execution_count": null,
   "id": "ad789db8-a958-45c2-b4d2-7c058985e2f4",
   "metadata": {},
   "outputs": [],
   "source": []
  }
 ],
 "metadata": {
  "kernelspec": {
   "display_name": "Python 3 (ipykernel)",
   "language": "python",
   "name": "python3"
  },
  "language_info": {
   "codemirror_mode": {
    "name": "ipython",
    "version": 3
   },
   "file_extension": ".py",
   "mimetype": "text/x-python",
   "name": "python",
   "nbconvert_exporter": "python",
   "pygments_lexer": "ipython3",
   "version": "3.12.4"
  }
 },
 "nbformat": 4,
 "nbformat_minor": 5
}
