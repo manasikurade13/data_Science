{
 "cells": [
  {
   "cell_type": "markdown",
   "id": "a080db66-0627-4f68-9d7c-4294ef530a8e",
   "metadata": {},
   "source": [
    "# Python program to get a list of the column headers from a Pandas DataFrame, delete DataFrame columns by name or index, add new column to existing DataFrame."
   ]
  },
  {
   "cell_type": "markdown",
   "id": "0e44dcc3-4feb-428c-84ec-0911a43b3dd4",
   "metadata": {},
   "source": [
    "## 1. Getting a List of the Column Headers\n",
    "#### To get the list of column headers in a Pandas DataFrame, you can use the df.columns attribute and convert it to a list."
   ]
  },
  {
   "cell_type": "code",
   "execution_count": 134,
   "id": "753697fd-51d7-4a12-ba7a-4aeecadfd60c",
   "metadata": {},
   "outputs": [
    {
     "name": "stdout",
     "output_type": "stream",
     "text": [
      "The Column Headers: ['Courses', 'Fee', 'Duration', 'Discount']\n",
      "The Column Headers (using tolist()): ['Courses', 'Fee', 'Duration', 'Discount']\n"
     ]
    }
   ],
   "source": [
    "import pandas as pd\n",
    "\n",
    "# Sample DataFrame\n",
    "data = {\n",
    "    'Courses': ['Math', 'Science', 'English', 'History'],\n",
    "    'Fee': [200, 300, 250, 400],\n",
    "    'Duration': ['30days', '45days', '35days', '50days'],\n",
    "    'Discount': [10, 15, 5, 20]\n",
    "}\n",
    "\n",
    "df = pd.DataFrame(data)\n",
    "\n",
    "# Get the list of all column names from headers\n",
    "column_headers = list(df.columns)\n",
    "print(\"The Column Headers:\", column_headers)\n",
    "\n",
    "# Alternatively using tolist()\n",
    "column_headers_tolist = df.columns.values.tolist()\n",
    "print(\"The Column Headers (using tolist()):\", column_headers_tolist)"
   ]
  },
  {
   "cell_type": "markdown",
   "id": "d3ea0506-332b-4ed8-8e60-9b7a565ea2b4",
   "metadata": {},
   "source": [
    "## 2. How to Use the .drop() Method in Pandas\n",
    "#### The .drop() method can be used to remove columns by name or index."
   ]
  },
  {
   "cell_type": "code",
   "execution_count": 138,
   "id": "b26e8567-4a2a-4179-a5f3-f6a064fedeef",
   "metadata": {},
   "outputs": [
    {
     "name": "stdout",
     "output_type": "stream",
     "text": [
      "\n",
      "DataFrame after dropping 'Discount' column:\n",
      "   Courses  Fee Duration\n",
      "0     Math  200   30days\n",
      "1  Science  300   45days\n",
      "2  English  250   35days\n",
      "3  History  400   50days\n",
      "\n",
      "DataFrame after dropping column at index 1 (Fee):\n",
      "   Courses Duration  Discount\n",
      "0     Math   30days        10\n",
      "1  Science   45days        15\n",
      "2  English   35days         5\n",
      "3  History   50days        20\n",
      "\n",
      "DataFrame after dropping 'Duration' column in place:\n",
      "   Courses  Fee  Discount\n",
      "0     Math  200        10\n",
      "1  Science  300        15\n",
      "2  English  250         5\n",
      "3  History  400        20\n"
     ]
    }
   ],
   "source": [
    "# Deleting a column by name\n",
    "df_dropped = df.drop(columns=['Discount'])\n",
    "print(\"\\nDataFrame after dropping 'Discount' column:\")\n",
    "print(df_dropped)\n",
    "\n",
    "# Deleting a column by index (e.g., index 1, which is 'Fee')\n",
    "df_dropped_index = df.drop(df.columns[1], axis=1)\n",
    "print(\"\\nDataFrame after dropping column at index 1 (Fee):\")\n",
    "print(df_dropped_index)\n",
    "\n",
    "# If you want to drop in place, you can do it like this:\n",
    "df.drop(columns=['Duration'], inplace=True)\n",
    "print(\"\\nDataFrame after dropping 'Duration' column in place:\")\n",
    "print(df)"
   ]
  },
  {
   "cell_type": "markdown",
   "id": "5cda2f03-4d5e-4e78-b49c-4e2d177f1cd5",
   "metadata": {},
   "source": [
    "## 3. Adding New Columns"
   ]
  },
  {
   "cell_type": "markdown",
   "id": "1c3000af-87fd-4d6d-9905-dc38a3b40218",
   "metadata": {},
   "source": [
    "### Method 1: Adding Columns at the End"
   ]
  },
  {
   "cell_type": "code",
   "execution_count": 142,
   "id": "badad72a-7cfb-4b39-a3c0-4e5fc4f8d590",
   "metadata": {},
   "outputs": [
    {
     "name": "stdout",
     "output_type": "stream",
     "text": [
      "\n",
      "DataFrame after adding new column 'C' at the end:\n",
      "   Courses  Fee  Discount   C\n",
      "0     Math  200        10  10\n",
      "1  Science  300        15  20\n",
      "2  English  250         5  30\n",
      "3  History  400        20  40\n"
     ]
    }
   ],
   "source": [
    "# Adding a new column 'C' at the end\n",
    "df[\"C\"] = [10, 20, 30, 40]\n",
    "print(\"\\nDataFrame after adding new column 'C' at the end:\")\n",
    "print(df)"
   ]
  },
  {
   "cell_type": "markdown",
   "id": "656d7f6c-1aa6-4a0b-88e4-6805b680fb3a",
   "metadata": {},
   "source": [
    "### Method 2: Adding Columns at a Specific Index"
   ]
  },
  {
   "cell_type": "code",
   "execution_count": 145,
   "id": "12da2eb7-89bc-400a-b908-0119bf1473a6",
   "metadata": {},
   "outputs": [
    {
     "name": "stdout",
     "output_type": "stream",
     "text": [
      "\n",
      "DataFrame after adding new column 'D' at index 1:\n",
      "   Courses  D  Fee  Discount   C\n",
      "0     Math  5  200        10  10\n",
      "1  Science  5  300        15  20\n",
      "2  English  5  250         5  30\n",
      "3  History  5  400        20  40\n"
     ]
    }
   ],
   "source": [
    "# Adding a new column 'D' at index 1\n",
    "df.insert(1, \"D\", 5)\n",
    "print(\"\\nDataFrame after adding new column 'D' at index 1:\")\n",
    "print(df)"
   ]
  },
  {
   "cell_type": "markdown",
   "id": "22eb461c-3402-46b9-8d0c-65a1e07a224b",
   "metadata": {},
   "source": [
    "### Method 3: Adding Columns with loc"
   ]
  },
  {
   "cell_type": "code",
   "execution_count": 148,
   "id": "63ca8a4a-79a5-45fc-bf65-88ed09725f7f",
   "metadata": {},
   "outputs": [
    {
     "name": "stdout",
     "output_type": "stream",
     "text": [
      "\n",
      "DataFrame after adding new column 'E' using loc:\n",
      "   Courses  D  Fee  Discount   C  E\n",
      "0     Math  5  200        10  10  a\n",
      "1  Science  5  300        15  20  b\n",
      "2  English  5  250         5  30  c\n",
      "3  History  5  400        20  40  d\n"
     ]
    }
   ],
   "source": [
    "# Adding a new column 'E' using loc\n",
    "df.loc[:, \"E\"] = list(\"abcd\")\n",
    "print(\"\\nDataFrame after adding new column 'E' using loc:\")\n",
    "print(df)"
   ]
  },
  {
   "cell_type": "markdown",
   "id": "b3759adb-3504-4ed6-9ef8-7561b0e1433c",
   "metadata": {},
   "source": [
    "### Method 4: Adding Columns with the assign Function"
   ]
  },
  {
   "cell_type": "code",
   "execution_count": 151,
   "id": "246f0720-3f8b-45d8-9831-20854a5fecb3",
   "metadata": {},
   "outputs": [
    {
     "name": "stdout",
     "output_type": "stream",
     "text": [
      "\n",
      "DataFrame after adding new column 'F' using assign:\n",
      "   Courses  D  Fee  Discount   C  E    F\n",
      "0     Math  5  200        10  10  a  100\n",
      "1  Science  5  300        15  20  b  200\n",
      "2  English  5  250         5  30  c  300\n",
      "3  History  5  400        20  40  d  400\n"
     ]
    }
   ],
   "source": [
    "# Adding a new column 'F' using assign function\n",
    "df = df.assign(F = df.C * 10)\n",
    "print(\"\\nDataFrame after adding new column 'F' using assign:\")\n",
    "print(df)"
   ]
  }
 ],
 "metadata": {
  "kernelspec": {
   "display_name": "Python 3 (ipykernel)",
   "language": "python",
   "name": "python3"
  },
  "language_info": {
   "codemirror_mode": {
    "name": "ipython",
    "version": 3
   },
   "file_extension": ".py",
   "mimetype": "text/x-python",
   "name": "python",
   "nbconvert_exporter": "python",
   "pygments_lexer": "ipython3",
   "version": "3.12.4"
  }
 },
 "nbformat": 4,
 "nbformat_minor": 5
}
