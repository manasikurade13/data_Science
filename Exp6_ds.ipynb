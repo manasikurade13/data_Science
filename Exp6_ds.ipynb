{
 "cells": [
  {
   "cell_type": "code",
   "execution_count": 1,
   "id": "7b850942-3764-4845-ae36-a12ed5564a36",
   "metadata": {},
   "outputs": [],
   "source": [
    "import numpy as np"
   ]
  },
  {
   "cell_type": "code",
   "execution_count": 19,
   "id": "cdb02eed-bd61-4625-91dd-fa005a1a83c5",
   "metadata": {},
   "outputs": [
    {
     "name": "stdout",
     "output_type": "stream",
     "text": [
      "10\n"
     ]
    }
   ],
   "source": [
    "add = lambda a,b: a+b\n",
    "print(add(5,5))"
   ]
  },
  {
   "cell_type": "code",
   "execution_count": 21,
   "id": "8b493d77-351d-4e66-9826-2a6c3604e30a",
   "metadata": {},
   "outputs": [
    {
     "name": "stdout",
     "output_type": "stream",
     "text": [
      "0\n"
     ]
    }
   ],
   "source": [
    "sub = lambda a,b: a-b\n",
    "print(sub(5,5))"
   ]
  },
  {
   "cell_type": "code",
   "execution_count": 23,
   "id": "3875d4b0-43e3-471c-9cba-c1c7d44798b0",
   "metadata": {},
   "outputs": [
    {
     "name": "stdout",
     "output_type": "stream",
     "text": [
      "25\n"
     ]
    }
   ],
   "source": [
    "mul = lambda a,b: a*b\n",
    "print(mul(5,5))"
   ]
  },
  {
   "cell_type": "code",
   "execution_count": 25,
   "id": "dc959a16-96c7-4ad4-86ef-a2b5f79118e8",
   "metadata": {},
   "outputs": [
    {
     "name": "stdout",
     "output_type": "stream",
     "text": [
      "1.0\n"
     ]
    }
   ],
   "source": [
    "div = lambda a,b: a/b\n",
    "print(div(5,5))"
   ]
  },
  {
   "cell_type": "code",
   "execution_count": 27,
   "id": "da6a8dca-9094-4f07-a6f2-dfcbac7dac81",
   "metadata": {},
   "outputs": [
    {
     "name": "stdout",
     "output_type": "stream",
     "text": [
      "0\n"
     ]
    }
   ],
   "source": [
    "rem = lambda a,b: a%b\n",
    "print(rem(5,5))"
   ]
  },
  {
   "cell_type": "code",
   "execution_count": 29,
   "id": "a8ca0134-4864-41dc-8d70-5f542e8fc11a",
   "metadata": {},
   "outputs": [
    {
     "name": "stdout",
     "output_type": "stream",
     "text": [
      "17\n"
     ]
    }
   ],
   "source": [
    "add =lambda x,y,z:x+y+z\n",
    "print(add(5,4,8))"
   ]
  },
  {
   "cell_type": "code",
   "execution_count": 33,
   "id": "2d229127-11e0-4ff3-bb8f-bb3bed8ec8d4",
   "metadata": {},
   "outputs": [
    {
     "name": "stdout",
     "output_type": "stream",
     "text": [
      "36\n"
     ]
    }
   ],
   "source": [
    "add =lambda x,y,z,w:x+y*z-w\n",
    "print(add(5,4,8,1))"
   ]
  },
  {
   "cell_type": "code",
   "execution_count": null,
   "id": "5c07b93b-f546-4612-8731-306f9c028363",
   "metadata": {},
   "outputs": [],
   "source": []
  }
 ],
 "metadata": {
  "kernelspec": {
   "display_name": "Python 3 (ipykernel)",
   "language": "python",
   "name": "python3"
  },
  "language_info": {
   "codemirror_mode": {
    "name": "ipython",
    "version": 3
   },
   "file_extension": ".py",
   "mimetype": "text/x-python",
   "name": "python",
   "nbconvert_exporter": "python",
   "pygments_lexer": "ipython3",
   "version": "3.12.4"
  }
 },
 "nbformat": 4,
 "nbformat_minor": 5
}
